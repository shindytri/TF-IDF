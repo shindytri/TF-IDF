{
 "cells": [
  {
   "cell_type": "code",
   "execution_count": 15,
   "metadata": {},
   "outputs": [],
   "source": [
    "import math\n",
    "import pandas as pd\n",
    "import re\n",
    "import copy"
   ]
  },
  {
   "cell_type": "code",
   "execution_count": 93,
   "metadata": {},
   "outputs": [],
   "source": [
    "def dataCleanse(data):\n",
    "    paragraf = []\n",
    "    words = []\n",
    "    for i in data:\n",
    "        for sentence in i:\n",
    "            temp = re.split(r\"(?<!^)\\s*[.\\n]+\\s*(?!$)\", sentence)\n",
    "            for x in temp:\n",
    "                word = re.sub(r'[^\\w\\s]', '', x.lower())\n",
    "                word = re.split('\\s+', word)\n",
    "                for j in word:\n",
    "                    words.append(j)\n",
    "        paragraf.append(words.copy())\n",
    "        words = []\n",
    "    return paragraf\n",
    "\n",
    "def tf(word,text):\n",
    "    count = 0\n",
    "    for i in text:\n",
    "        if i == word:\n",
    "            count+=1\n",
    "    return count/len(text)\n",
    "\n",
    "def idf(word):\n",
    "    count = 0\n",
    "    for i in paragraf:\n",
    "        if word in i:\n",
    "            count += 1\n",
    "    return math.log(len(paragraf)/count)\n",
    "\n",
    "def tf_idf(tf, idf):\n",
    "    return tf*idf"
   ]
  },
  {
   "cell_type": "code",
   "execution_count": 92,
   "metadata": {},
   "outputs": [
    {
     "name": "stdout",
     "output_type": "stream",
     "text": [
      "TF-IDF pseudobulbs\n",
      "pseudobulbs - Paragraf  1  :  0.0\n",
      "pseudobulbs - Paragraf  2  :  0.0\n",
      "pseudobulbs - Paragraf  3  :  0.0\n",
      "pseudobulbs - Paragraf  4  :  0.0\n",
      "pseudobulbs - Paragraf  5  :  0.0\n",
      "\n",
      "TF-IDF aromatic\n",
      "aromatic - Paragraf  1  :  0.0\n",
      "aromatic - Paragraf  2  :  0.019390818222097594\n",
      "aromatic - Paragraf  3  :  0.0\n",
      "aromatic - Paragraf  4  :  0.0\n",
      "aromatic - Paragraf  5  :  0.0\n"
     ]
    }
   ],
   "source": [
    "data = pd.read_csv('texts.csv').values.tolist()\n",
    "paragraf = dataCleanse(data)\n",
    "\n",
    "word1 = \"pseudobulbs\"\n",
    "word2 = \"aromatic\"\n",
    "\n",
    "tf_idf1 = []\n",
    "idf_val1 = idf(word1)\n",
    "for i in paragraf:\n",
    "    tf_val1 = tf(word1,i)\n",
    "    tf_idf1.append(tf_idf(tf_val1,idf_val1))\n",
    "\n",
    "tf_idf1\n",
    "\n",
    "tf_idf2 = []\n",
    "idf_val2 = idf(word2)\n",
    "for i in paragraf:\n",
    "    tf_val2 = tf(word2,i)\n",
    "    tf_idf2.append(tf_idf(tf_val2,idf_val2))\n",
    "\n",
    "print('TF-IDF pseudobulbs')\n",
    "num = 1\n",
    "for i in tf_idf1:\n",
    "    print(word1,\"- Paragraf \",num,\" : \",i)\n",
    "    num+=1\n",
    "    \n",
    "print('\\nTF-IDF aromatic')\n",
    "num = 1\n",
    "for i in tf_idf2:\n",
    "    print(word2,\"- Paragraf \",num,\" : \",i)\n",
    "    num+=1"
   ]
  },
  {
   "cell_type": "code",
   "execution_count": null,
   "metadata": {},
   "outputs": [],
   "source": []
  }
 ],
 "metadata": {
  "kernelspec": {
   "display_name": "Python 3",
   "language": "python",
   "name": "python3"
  },
  "language_info": {
   "codemirror_mode": {
    "name": "ipython",
    "version": 3
   },
   "file_extension": ".py",
   "mimetype": "text/x-python",
   "name": "python",
   "nbconvert_exporter": "python",
   "pygments_lexer": "ipython3",
   "version": "3.7.3"
  }
 },
 "nbformat": 4,
 "nbformat_minor": 2
}
